{
 "cells": [
  {
   "cell_type": "code",
   "execution_count": 19,
   "metadata": {},
   "outputs": [],
   "source": [
    "import pickle\n",
    "import numpy as np\n",
    "from sequential.seq2pat import Seq2Pat, Attribute\n",
    "from sequential.pat2feat import Pat2Feat"
   ]
  },
  {
   "cell_type": "code",
   "execution_count": 6,
   "metadata": {},
   "outputs": [],
   "source": [
    "sequences = pickle.load( open( \"sequences.p\", \"rb\" ) )"
   ]
  },
  {
   "cell_type": "code",
   "execution_count": 55,
   "metadata": {},
   "outputs": [],
   "source": [
    "\n",
    "seq2pat = Seq2Pat(sequences=sequences)\n",
    "\n",
    "position = Attribute(values=[[i for i,j in enumerate(sequence)] for sequence in sequences])\n",
    "\n",
    "seq2pat.add_constraint(position.gap() <= 2)\n",
    "seq2pat.add_constraint(4 <= position.span())\n",
    "\n",
    "traces = seq2pat.get_patterns(min_frequency=100)\n",
    "patterns = [trace[:-1] for trace in traces]\n",
    "counts = [trace[-1] for trace in traces]"
   ]
  },
  {
   "cell_type": "code",
   "execution_count": 70,
   "metadata": {},
   "outputs": [
    {
     "data": {
      "text/plain": [
       "18685"
      ]
     },
     "execution_count": 70,
     "metadata": {},
     "output_type": "execute_result"
    }
   ],
   "source": [
    "# Counts of all patterns in all sequences\n",
    "np.sum(counts)"
   ]
  },
  {
   "cell_type": "code",
   "execution_count": 57,
   "metadata": {},
   "outputs": [],
   "source": [
    "pat2feat = Pat2Feat()\n",
    "encodings = pat2feat.get_features(sequences, patterns, drop_pattern_frequency=False)\n",
    "onehotmatrix = encodings.values[:, 1:]"
   ]
  },
  {
   "cell_type": "code",
   "execution_count": 72,
   "metadata": {},
   "outputs": [
    {
     "data": {
      "text/plain": [
       "20078"
      ]
     },
     "execution_count": 72,
     "metadata": {},
     "output_type": "execute_result"
    }
   ],
   "source": [
    "# Count of all patterns in all sequences without constraints according to pat2feat\n",
    "onehotmatrix.sum()"
   ]
  },
  {
   "cell_type": "code",
   "execution_count": 58,
   "metadata": {},
   "outputs": [],
   "source": [
    "onehotmatrix2 = np.zeros((len(sequences), len(patterns)))\n",
    "for i, sequence in enumerate(sequences):\n",
    "    seq = np.array(sequence)\n",
    "    for j, pattern in enumerate(patterns):\n",
    "        currentIndex = -1\n",
    "        patterninside = True\n",
    "        for pat in pattern:\n",
    "            indices = np.where(seq == pat)[0]\n",
    "            if np.all(indices <= currentIndex):\n",
    "                patterninside = False\n",
    "                break\n",
    "            else:\n",
    "                for index in indices:\n",
    "                    if index > currentIndex:\n",
    "                        currentIndex = index\n",
    "                        break\n",
    "        if patterninside:\n",
    "            onehotmatrix2[i, j] = 1"
   ]
  },
  {
   "cell_type": "code",
   "execution_count": 73,
   "metadata": {},
   "outputs": [
    {
     "data": {
      "text/plain": [
       "21065.0"
      ]
     },
     "execution_count": 73,
     "metadata": {},
     "output_type": "execute_result"
    }
   ],
   "source": [
    "# Count of all patterns in all sequences without constraints according to simple algorithm\n",
    "onehotmatrix2.sum()"
   ]
  },
  {
   "cell_type": "code",
   "execution_count": 74,
   "metadata": {},
   "outputs": [],
   "source": [
    "# Since my algorithm finds more, check differences\n",
    "differences = np.where(onehotmatrix != onehotmatrix2)"
   ]
  },
  {
   "cell_type": "code",
   "execution_count": 76,
   "metadata": {},
   "outputs": [
    {
     "data": {
      "text/plain": [
       "0"
      ]
     },
     "execution_count": 76,
     "metadata": {},
     "output_type": "execute_result"
    }
   ],
   "source": [
    "# there are not patterns that pat2feat finds, that my algortihm does not\n",
    "onehotmatrix[differences].sum()"
   ]
  },
  {
   "cell_type": "code",
   "execution_count": 80,
   "metadata": {},
   "outputs": [],
   "source": [
    "#check validity of my algorithm\n",
    "# change i to check entries in this matrix\n",
    "i = 0\n",
    "sequenceid = differences[0][i]\n",
    "patternid = differences[1][i]"
   ]
  },
  {
   "cell_type": "code",
   "execution_count": 81,
   "metadata": {},
   "outputs": [
    {
     "data": {
      "text/plain": [
       "['Left-Down-2-358.0',\n",
       " 'Left-Down-2-357.0',\n",
       " 'Left-Down-1-81.0',\n",
       " 'Left-Down-2-358.0',\n",
       " 'CTRL + C-2-48.0',\n",
       " 'Left-Down-1-81.0',\n",
       " 'CTRL + V-1-1.0',\n",
       " 'Left-Down-1-81.0',\n",
       " 'Left-Down-1-92.0',\n",
       " 'CTRL + C-1-13.0',\n",
       " 'Left-Down-1-81.0',\n",
       " 'CTRL + V-1-1.0',\n",
       " 'Left-Down-2-358.0',\n",
       " 'CTRL + C-2-48.0',\n",
       " 'Left-Down-1-81.0',\n",
       " 'CTRL + V-1-1.0',\n",
       " 'Left-Down-1-754.0',\n",
       " 'Left-Down-2-358.0',\n",
       " 'CTRL + C-2-48.0',\n",
       " 'Left-Down-1-81.0']"
      ]
     },
     "execution_count": 81,
     "metadata": {},
     "output_type": "execute_result"
    }
   ],
   "source": [
    "sequences[sequenceid]"
   ]
  },
  {
   "cell_type": "code",
   "execution_count": 82,
   "metadata": {},
   "outputs": [
    {
     "data": {
      "text/plain": [
       "['CTRL + C-2-48.0',\n",
       " 'Left-Down-1-81.0',\n",
       " 'CTRL + V-1-1.0',\n",
       " 'Left-Down-2-358.0',\n",
       " 'CTRL + C-2-48.0',\n",
       " 'CTRL + V-1-1.0']"
      ]
     },
     "execution_count": 82,
     "metadata": {},
     "output_type": "execute_result"
    }
   ],
   "source": [
    "patterns[patternid]"
   ]
  },
  {
   "cell_type": "code",
   "execution_count": null,
   "metadata": {},
   "outputs": [],
   "source": []
  }
 ],
 "metadata": {
  "kernelspec": {
   "display_name": "Python 3.10.4 64-bit",
   "language": "python",
   "name": "python3"
  },
  "language_info": {
   "codemirror_mode": {
    "name": "ipython",
    "version": 3
   },
   "file_extension": ".py",
   "mimetype": "text/x-python",
   "name": "python",
   "nbconvert_exporter": "python",
   "pygments_lexer": "ipython3",
   "version": "3.10.4"
  },
  "orig_nbformat": 4,
  "vscode": {
   "interpreter": {
    "hash": "26de051ba29f2982a8de78e945f0abaf191376122a1563185a90213a26c5da77"
   }
  }
 },
 "nbformat": 4,
 "nbformat_minor": 2
}
